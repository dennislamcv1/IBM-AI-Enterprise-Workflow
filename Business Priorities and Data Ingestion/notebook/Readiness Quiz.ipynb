{
 "cells": [
  {
   "cell_type": "code",
   "execution_count": 1,
   "metadata": {},
   "outputs": [
    {
     "data": {
      "text/plain": [
       "[1, 8, 27, 64]"
      ]
     },
     "execution_count": 1,
     "metadata": {},
     "output_type": "execute_result"
    }
   ],
   "source": [
    "def get_cubed(lst):\n",
    "  '''\n",
    "  INPUT: LIST (containing numeric elements)\n",
    "  OUTPUT: LIST (cubed value of each even number in originals list)\n",
    "  return a list containing each element cubed\n",
    "  '''\n",
    "  cubes = []\n",
    "  for number in lst:\n",
    "    cube = number*number*number\n",
    "    cubes.append(cube)\n",
    "  return cubes\n",
    "\n",
    "get_cubed([1,2,3,4])\n"
   ]
  },
  {
   "cell_type": "code",
   "execution_count": 2,
   "metadata": {},
   "outputs": [
    {
     "data": {
      "text/plain": [
       "[4, 16, 36]"
      ]
     },
     "execution_count": 2,
     "metadata": {},
     "output_type": "execute_result"
    }
   ],
   "source": [
    "def get_squared_evens(lst):\n",
    "    '''\n",
    "    INPUT: LIST (containing numeric elements)\n",
    "    OUTPUT: LIST (squared value of each even number in originals list)\n",
    "    return squared evens in a list\n",
    "    '''\n",
    "    squares = []\n",
    "    for num in lst:\n",
    "        if(num%2 == 0):\n",
    "            square = num*num\n",
    "            squares.append(square)\n",
    "    return squares\n",
    "\n",
    "\n",
    "get_squared_evens([1,2,3,4,5,6,7])"
   ]
  },
  {
   "cell_type": "code",
   "execution_count": 3,
   "metadata": {},
   "outputs": [
    {
     "data": {
      "text/plain": [
       "{'a': 1, 'b': 2, 'c': 3}"
      ]
     },
     "execution_count": 3,
     "metadata": {},
     "output_type": "execute_result"
    }
   ],
   "source": [
    "def make_dict(lst1,lst2):\n",
    "    '''\n",
    "    INPUT: LST1, LST2\n",
    "    OUTPUT: DICT (LST 1 are the keys and LST2 are the values)\n",
    "    Given equal length lists create a dictionary where the first list is the keys\n",
    "    '''\n",
    "    list = {}\n",
    "    for key, value in zip(lst1,lst2):\n",
    "      list[key]=value\n",
    "      \n",
    "    return list\n",
    "\n",
    "make_dict(['a','b','c'],[1,2,3])"
   ]
  },
  {
   "cell_type": "code",
   "execution_count": 4,
   "metadata": {},
   "outputs": [
    {
     "data": {
      "text/plain": [
       "{'a': 1, 'b': 2, 'c': 3, 'd': 4, 'e': 5, 'f': 6, 'g': 7, 'h': 8}"
      ]
     },
     "execution_count": 4,
     "metadata": {},
     "output_type": "execute_result"
    }
   ],
   "source": [
    "def count_characters(string):\n",
    "    '''\n",
    "    INPUT: STRING\n",
    "    OUTPUT: DICT (with counts of each character in input string)\n",
    "\n",
    "    Return a dictionary of character counts\n",
    "    '''\n",
    "    all_freq = {}\n",
    "    for i in string:\n",
    "      if i in all_freq:\n",
    "        all_freq[i] += 1\n",
    "      else:\n",
    "        all_freq[i] = 1\n",
    "    return all_freq\n",
    "      \n",
    "count_characters(\"abbcccddddeeeeeffffffggggggghhhhhhhh\")\n"
   ]
  },
  {
   "cell_type": "code",
   "execution_count": 5,
   "metadata": {},
   "outputs": [
    {
     "data": {
      "text/plain": [
       "6.500769185258003"
      ]
     },
     "execution_count": 5,
     "metadata": {},
     "output_type": "execute_result"
    }
   ],
   "source": [
    "import numpy as np\n",
    "\n",
    "def calculate_l1_norm(v):\n",
    "  '''\n",
    "  INPUT: LIST or ARRAY (containing numeric elements)\n",
    "  OUTPUT: FLOAT (L1 norm of v)\n",
    "  calculate and return a norm for a given vector\n",
    "  '''\n",
    "  L1 = np.linalg.norm(v)\n",
    "  return float(L1)\n",
    "  \n",
    "v = np.array([2.0, -3.5, 5.1])\n",
    "  \n",
    "calculate_l1_norm(v)\n"
   ]
  },
  {
   "cell_type": "code",
   "execution_count": 6,
   "metadata": {},
   "outputs": [
    {
     "data": {
      "text/plain": [
       "array([ 120,  345,  570,  795, 1020, 1245, 1470, 1695, 1920, 2145])"
      ]
     },
     "execution_count": 6,
     "metadata": {},
     "output_type": "execute_result"
    }
   ],
   "source": [
    "import numpy as np\n",
    "\n",
    "def get_vector_sum(vectorLower, vectorUpper):\n",
    "  '''\n",
    "  INPUT: vector lower and upper bounds\n",
    "  OUTPUT: calculated value for vector sum\n",
    "  (1) create a vector ranging from 1:150\n",
    "  (2) transform the vector into a matrix with 10 rows and 15 columns\n",
    "  (3) print the sum for the 10 rows\n",
    "  '''\n",
    "  v = np.arange(vectorLower, vectorUpper)\n",
    "  s = v.reshape((10,15))\n",
    "  return np.sum(s,1)\n",
    "  \n",
    "get_vector_sum(1, 151)\n",
    "  \n"
   ]
  },
  {
   "cell_type": "code",
   "execution_count": 7,
   "metadata": {},
   "outputs": [],
   "source": [
    "import scipy.stats as stats\n",
    "\n",
    "def geometric_distribution(p,k):\n",
    "  '''\n",
    "  INPUT: probability of success and trials\n",
    "  OUTPUT: determined probability\n",
    "  '''\n",
    "  stats.geom(p,)\n"
   ]
  },
  {
   "cell_type": "code",
   "execution_count": 1,
   "metadata": {},
   "outputs": [
    {
     "data": {
      "text/plain": [
       "[[19, 22], [43, 50]]"
      ]
     },
     "execution_count": 1,
     "metadata": {},
     "output_type": "execute_result"
    }
   ],
   "source": [
    "def matrix_multiplication(A,B):\n",
    "  '''\n",
    "  INPUT: LIST (of length n) OF LIST (of length n) OF INTEGERS\n",
    "  LIST (of length n) OF LIST (of length n) OF INTEGERS\n",
    "  OUTPUT: LIST OF LIST OF INTEGERS\n",
    "  (storing the product of a matrix multiplication operation)\n",
    "  Return the matrix which is the product of matrix A and matrix B\n",
    "  where A and B will be (a) integer valued (b) square matrices\n",
    "  (c) of size n-by-n (d) encoded as lists of lists, e.g.\n",
    "  A = [[2, 3, 4], [6, 4, 2], [-1, 2, 0]] corresponds to the matrix\n",
    "  | 2 3 4 |\n",
    "  | 6 4 2 |\n",
    "  |-1 2 0 |\n",
    "  You may not use numpy. Write your solution in straight python\n",
    "  '''\n",
    "  result = [[sum(a*b for a,b in zip(A_row,B_col)) for B_col in zip(*B)] for A_row in A]\n",
    "  return result\n",
    "  \n",
    "A = [[1,2],[3,4]]\n",
    "B = [[5,6],[7,8]]\n",
    "\n",
    "\n",
    "matrix_multiplication(A,B)"
   ]
  },
  {
   "cell_type": "code",
   "execution_count": null,
   "metadata": {},
   "outputs": [],
   "source": []
  }
 ],
 "metadata": {
  "kernelspec": {
   "display_name": "Python 3",
   "language": "python",
   "name": "python3"
  },
  "language_info": {
   "codemirror_mode": {
    "name": "ipython",
    "version": 3
   },
   "file_extension": ".py",
   "mimetype": "text/x-python",
   "name": "python",
   "nbconvert_exporter": "python",
   "pygments_lexer": "ipython3",
   "version": "3.8.3"
  }
 },
 "nbformat": 4,
 "nbformat_minor": 4
}
