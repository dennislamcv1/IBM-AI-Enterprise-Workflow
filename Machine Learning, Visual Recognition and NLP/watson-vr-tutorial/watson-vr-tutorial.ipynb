{
 "cells": [
  {
   "attachments": {
    "ibm-cloud.png": {
     "image/png": "[encoded data removed]"
    }
   },
   "cell_type": "markdown",
   "metadata": {},
   "source": [
    "![ibm-cloud.png](attachment:ibm-cloud.png)\n",
    "\n",
    "# Watson Visual Recognition Tutorial\n",
    "\n",
    "This is a short tutorial that ensures that exposes you to several aspect of the Watson Visual Recognition service.  We highly encourage you to visit the links provided throughout to further your understanding of the additional capabilities that Watson Visual Recognition has to offer.\n",
    "\n",
    "* [Watson Visual Recognition docs](https://cloud.ibm.com/apidocs/visual-recognition/visual-recognition-v4)\n",
    "* [Watson Visual Recognition overview](https://cloud.ibm.com/docs/services/visual-recognition?topic=visual-recognition-object-detection-overview)\n",
    "* [Watson Visual Recognition best practices](https://developer.ibm.com/articles/cc-build-with-watson-tips-best-practices-custom-classifiers-visual-recognition/)"
   ]
  },
  {
   "cell_type": "markdown",
   "metadata": {},
   "source": [
    "If you have not already carried out instructions that proceeded this tutorial please do so now.  You should have\n",
    "\n",
    "1. Installed the [Watson Developer Cloud Python software SDK](https://github.com/watson-developer-cloud)\n",
    "2. Created a `visual recognition` resource in the [IBM Cloud](https://cloud.ibm.com)\n",
    "3. Saved the url, API key, and version associated with your resource in a file located in your home directory."
   ]
  },
  {
   "cell_type": "code",
   "execution_count": null,
   "metadata": {},
   "outputs": [],
   "source": [
    "import sys\n",
    "import os\n",
    "import json\n",
    "import matplotlib.pyplot as plt\n",
    "import matplotlib.image as mpimg\n",
    "from ibm_watson import VisualRecognitionV3, VisualRecognitionV4\n",
    "from ibm_watson.visual_recognition_v4 import FileWithMetadata, TrainingDataObject, Location, AnalyzeEnums\n",
    "from ibm_cloud_sdk_core.authenticators import IAMAuthenticator\n",
    "%matplotlib inline"
   ]
  },
  {
   "cell_type": "markdown",
   "metadata": {},
   "source": [
    "If you have saved your key, version and url in the `~/.ibm/ibmauth.py` then the following code block should not raise an exception.  **It is important to be explicit about the version** with every request, because software changes and with APIs the source code is not always readily available.  From the perspective of being able to reproduce your analysis at some point in the future the version is essential."
   ]
  },
  {
   "cell_type": "code",
   "execution_count": null,
   "metadata": {},
   "outputs": [],
   "source": [
    "### import API key\n",
    "apikey_dir = os.path.join(os.path.expanduser(\"~\"),\".ibm\")\n",
    "sys.path.append(apikey_dir)\n",
    "\n",
    "if not os.path.exists(apikey_dir):\n",
    "    raise Exception(\"please store you API key in file within 'apikey_dir' before proceeding\")\n",
    "\n",
    "from ibmauth import  VR_KEY, VR_URL, VR_VERSION"
   ]
  },
  {
   "cell_type": "markdown",
   "metadata": {},
   "source": [
    "It is common practice to wrap connection code in a function help ensure clean handling of errors."
   ]
  },
  {
   "cell_type": "code",
   "execution_count": null,
   "metadata": {},
   "outputs": [],
   "source": [
    "def connect_watson_vr_v3():\n",
    "    \"\"\"\n",
    "    establish a connection to watson visual recognition service (version 3)\n",
    "    \"\"\"\n",
    "    \n",
    "    authenticator = IAMAuthenticator(VR_KEY)\n",
    "    service = VisualRecognitionV3(version=VR_VERSION,\n",
    "                                  authenticator=authenticator)\n",
    "\n",
    "    service.set_service_url(VR_URL)\n",
    "\n",
    "    print(\"\\nConnection established.\\n\")\n",
    "    return(service)\n",
    "\n",
    "def connect_watson_vr_v4():\n",
    "    \"\"\"\n",
    "    establish a connection to watson visual recognition service (version 4)\n",
    "    \"\"\"\n",
    "    \n",
    "    authenticator = IAMAuthenticator(VR_KEY)\n",
    "    service = VisualRecognitionV4(version=VR_VERSION,\n",
    "                                  authenticator=authenticator)\n",
    "\n",
    "    service.set_service_url(VR_URL)\n",
    "\n",
    "    print(\"\\nConnection established.\\n\")\n",
    "    return(service)"
   ]
  },
  {
   "cell_type": "code",
   "execution_count": null,
   "metadata": {},
   "outputs": [],
   "source": [
    "## establish a connection to version 3 the service\n",
    "service = connect_watson_vr_v3()"
   ]
  },
  {
   "cell_type": "markdown",
   "metadata": {},
   "source": [
    "The Watson Visual Recognition service can classify images with built-in or custom classifiers.  The next cell will download an example image.  You can download the image directly if you do not have `wget` installed."
   ]
  },
  {
   "cell_type": "code",
   "execution_count": null,
   "metadata": {},
   "outputs": [],
   "source": [
    "## fetch and example image\n",
    "!wget -nc https://github.com/watson-developer-cloud/python-sdk/raw/master/resources/car.jpg"
   ]
  },
  {
   "cell_type": "code",
   "execution_count": null,
   "metadata": {},
   "outputs": [],
   "source": [
    "## show the image\n",
    "fig = plt.figure()\n",
    "ax = fig.add_subplot(111)\n",
    "img = mpimg.imread('car.jpg')\n",
    "imgplot = ax.imshow(img)\n",
    "plt.axis('off');"
   ]
  },
  {
   "cell_type": "code",
   "execution_count": null,
   "metadata": {},
   "outputs": [],
   "source": [
    "## classify the image from a file\n",
    "with open('car.jpg', 'rb') as images_file:\n",
    "    car_results = service.classify(\n",
    "        images_file=images_file,\n",
    "        threshold='0.1',\n",
    "        classifier_ids=['default']).get_result()\n",
    "print(json.dumps(car_results, indent=2))"
   ]
  },
  {
   "cell_type": "markdown",
   "metadata": {},
   "source": [
    "### Find an image of an identifiable object and repeat the process."
   ]
  },
  {
   "cell_type": "code",
   "execution_count": null,
   "metadata": {},
   "outputs": [],
   "source": [
    "with open('./Cats/2183146305_903e904615_z.jpg', 'rb') as images_file:\n",
    "    car_results = service.classify(\n",
    "        images_file=images_file,\n",
    "        threshold='0.1',\n",
    "        classifier_ids=['default']).get_result()\n",
    "print(json.dumps(car_results, indent=2))"
   ]
  },
  {
   "cell_type": "markdown",
   "metadata": {},
   "source": [
    "You may use `classify` directly through a URL as well.  Also note that we are directly specifying which classifier to use rather than using the default."
   ]
  },
  {
   "cell_type": "code",
   "execution_count": null,
   "metadata": {},
   "outputs": [],
   "source": [
    "## classify an image from a URL\n",
    "image_url = \"https://watson-developer-cloud.github.io/doc-tutorial-downloads/visual-recognition/fruitbowl.jpg\"\n",
    "fruitbowl_results = service.classify(url=image_url,\n",
    "                                     threshold='0.1',\n",
    "                                     classifier_ids=['food']).get_result()\n",
    "print(json.dumps(fruitbowl_results, indent=2))"
   ]
  },
  {
   "cell_type": "markdown",
   "metadata": {},
   "source": [
    "See the [version 3 of the documentation](https://cloud.ibm.com/apidocs/visual-recognition/visual-recognition-v3) to get an idea of some of the additional parameters."
   ]
  }
 ],
 "metadata": {
  "kernelspec": {
   "display_name": "Python 3",
   "language": "python",
   "name": "python3"
  },
  "language_info": {
   "codemirror_mode": {
    "name": "ipython",
    "version": 3
   },
   "file_extension": ".py",
   "mimetype": "text/x-python",
   "name": "python",
   "nbconvert_exporter": "python",
   "pygments_lexer": "ipython3",
   "version": "3.8.5"
  }
 },
 "nbformat": 4,
 "nbformat_minor": 2
}
